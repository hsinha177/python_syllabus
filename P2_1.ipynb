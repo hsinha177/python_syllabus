{
  "nbformat": 4,
  "nbformat_minor": 0,
  "metadata": {
    "colab": {
      "name": "P2_1.ipynb",
      "provenance": []
    },
    "kernelspec": {
      "name": "python3",
      "display_name": "Python 3"
    }
  },
  "cells": [
    {
      "cell_type": "markdown",
      "metadata": {
        "id": "CAxyg8wZ_NLy",
        "colab_type": "text"
      },
      "source": [
        "Program to compute distance between two points taking input from user"
      ]
    },
    {
      "cell_type": "code",
      "metadata": {
        "id": "xDSZnTHy_Pa4",
        "colab_type": "code",
        "colab": {
          "base_uri": "https://localhost:8080/",
          "height": 102
        },
        "outputId": "386471a8-682e-44d6-d762-6af260647108"
      },
      "source": [
        "import math as m\n",
        "\n",
        "x1=int(input(\"Enter X1 point : \"))\n",
        "y1=int(input(\"Enter Y1 point : \"))\n",
        "x2=int(input(\"Enter X2 point : \"))\n",
        "y2=int(input(\"Enter Y2 point : \"))\n",
        "\n",
        "dis = m.sqrt((x2-x1)**2+(y2-y1)**2)\n",
        "\n",
        "print(\"Distance between the points : \"+str(dis))"
      ],
      "execution_count": 4,
      "outputs": [
        {
          "output_type": "stream",
          "text": [
            "Enter X1 point : 10\n",
            "Enter Y1 point : 10\n",
            "Enter X2 point : 15\n",
            "Enter Y2 point : 10\n",
            "Distance between the points : 5.0\n"
          ],
          "name": "stdout"
        }
      ]
    }
  ]
}