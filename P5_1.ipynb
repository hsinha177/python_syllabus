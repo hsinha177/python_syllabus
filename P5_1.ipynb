{
  "nbformat": 4,
  "nbformat_minor": 0,
  "metadata": {
    "colab": {
      "name": "P5_1.ipynb",
      "provenance": [],
      "include_colab_link": true
    },
    "kernelspec": {
      "name": "python3",
      "display_name": "Python 3"
    }
  },
  "cells": [
    {
      "cell_type": "markdown",
      "metadata": {
        "id": "view-in-github",
        "colab_type": "text"
      },
      "source": [
        "<a href=\"https://colab.research.google.com/github/hsinha177/python_syllabus/blob/master/P5_1.ipynb\" target=\"_parent\"><img src=\"https://colab.research.google.com/assets/colab-badge.svg\" alt=\"Open In Colab\"/></a>"
      ]
    },
    {
      "cell_type": "markdown",
      "metadata": {
        "id": "o_jFghw_Z6MO",
        "colab_type": "text"
      },
      "source": [
        "Program to print sum of all primes under 2 million"
      ]
    },
    {
      "cell_type": "code",
      "metadata": {
        "id": "Pni-gCGkZl0T",
        "colab_type": "code",
        "colab": {
          "base_uri": "https://localhost:8080/",
          "height": 34
        },
        "outputId": "bac3b459-3223-4524-ecd3-b0d68dca66b7"
      },
      "source": [
        "# number to find summation of all primes below number\n",
        "max_Range = 2000000\n",
        "\n",
        "# create a set excluding even numbers\n",
        "numbers = set(range(3, max_Range + 1, 2)) \n",
        "\n",
        "for number in range(3, int(max_Range ** 0.5) + 1):\n",
        "    if number not in numbers:\n",
        "        #number must have been removed because it has a prime factor\n",
        "        continue\n",
        "\n",
        "    num = number\n",
        "    while num < max_Range:\n",
        "        num += number\n",
        "        if num in numbers:\n",
        "            # Remove multiples of prime found\n",
        "            numbers.remove(num)\n",
        "\n",
        "print (2 + sum(numbers)) \n"
      ],
      "execution_count": 1,
      "outputs": [
        {
          "output_type": "stream",
          "text": [
            "142913828922\n"
          ],
          "name": "stdout"
        }
      ]
    },
    {
      "cell_type": "code",
      "metadata": {
        "id": "8IQO7eq_aqrR",
        "colab_type": "code",
        "colab": {}
      },
      "source": [
        ""
      ],
      "execution_count": 0,
      "outputs": []
    }
  ]
}