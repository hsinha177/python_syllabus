{
  "nbformat": 4,
  "nbformat_minor": 0,
  "metadata": {
    "colab": {
      "name": "Random_Number_Functions.ipynb",
      "provenance": [],
      "collapsed_sections": [],
      "authorship_tag": "ABX9TyOjtFyh92aLSJ8HHPfF9Mal"
    },
    "kernelspec": {
      "name": "python3",
      "display_name": "Python 3"
    }
  },
  "cells": [
    {
      "cell_type": "markdown",
      "metadata": {
        "id": "CDX79HPh1f0g",
        "colab_type": "text"
      },
      "source": [
        "Basic Random Number Function Demonstration."
      ]
    },
    {
      "cell_type": "code",
      "metadata": {
        "id": "oT87iJLV1Utl",
        "colab_type": "code",
        "colab": {}
      },
      "source": [
        "import random "
      ],
      "execution_count": 0,
      "outputs": []
    },
    {
      "cell_type": "code",
      "metadata": {
        "id": "NxTlpzYF1ktt",
        "colab_type": "code",
        "outputId": "e2243f9d-03c8-475d-9cd5-bb35ebf09036",
        "colab": {
          "base_uri": "https://localhost:8080/",
          "height": 51
        }
      },
      "source": [
        "#choice() : return random item form passed sequence.\n",
        "L = [46,232,3014,1502]\n",
        "print(random.choice(L))   #return in int or float datatype depending upon the i/p\n",
        "print(random.choices(L))  #return in same datatype "
      ],
      "execution_count": 2,
      "outputs": [
        {
          "output_type": "stream",
          "text": [
            "1502\n",
            "[232]\n"
          ],
          "name": "stdout"
        }
      ]
    },
    {
      "cell_type": "code",
      "metadata": {
        "id": "wdW_LN1L3Err",
        "colab_type": "code",
        "outputId": "1684fc9b-e8be-407a-dcc1-65ec32922579",
        "colab": {
          "base_uri": "https://localhost:8080/",
          "height": 68
        }
      },
      "source": [
        "#randrange() : return random number between the range.\n",
        "print(random.randrange(5))\n",
        "print(random.randrange(1,5))\n",
        "print(random.randrange(1,20,1))"
      ],
      "execution_count": 3,
      "outputs": [
        {
          "output_type": "stream",
          "text": [
            "0\n",
            "3\n",
            "9\n"
          ],
          "name": "stdout"
        }
      ]
    },
    {
      "cell_type": "code",
      "metadata": {
        "id": "SIaxQcSP3h6W",
        "colab_type": "code",
        "outputId": "590a3bcf-bc07-434a-eb58-5719b5808739",
        "colab": {
          "base_uri": "https://localhost:8080/",
          "height": 34
        }
      },
      "source": [
        "#random() : returns random no. between 0 & 1.\n",
        "print(random.random())"
      ],
      "execution_count": 4,
      "outputs": [
        {
          "output_type": "stream",
          "text": [
            "0.717068827933404\n"
          ],
          "name": "stdout"
        }
      ]
    },
    {
      "cell_type": "code",
      "metadata": {
        "id": "vXLEfDCv5x8w",
        "colab_type": "code",
        "outputId": "7d2881fe-5a62-4da9-d78b-8643565fae56",
        "colab": {
          "base_uri": "https://localhost:8080/",
          "height": 34
        }
      },
      "source": [
        "#randint(x,y) : returns random number b/w x,y including x & y.\n",
        "print(random.randint(1,10)) "
      ],
      "execution_count": 5,
      "outputs": [
        {
          "output_type": "stream",
          "text": [
            "4\n"
          ],
          "name": "stdout"
        }
      ]
    },
    {
      "cell_type": "code",
      "metadata": {
        "id": "UGtIKAO9MVd_",
        "colab_type": "code",
        "outputId": "4226af18-d4a6-48c9-b1b9-c8092889470b",
        "colab": {
          "base_uri": "https://localhost:8080/",
          "height": 34
        }
      },
      "source": [
        "#sample(set,k) : returns set of k elements from the original 'set' without changing the orig.data.\n",
        "L = [46,232,1502,3014]\n",
        "print(random.sample(L,2))"
      ],
      "execution_count": 6,
      "outputs": [
        {
          "output_type": "stream",
          "text": [
            "[1502, 232]\n"
          ],
          "name": "stdout"
        }
      ]
    },
    {
      "cell_type": "code",
      "metadata": {
        "id": "ZjcV3YqbNi0q",
        "colab_type": "code",
        "outputId": "3abd8007-076b-48cf-e8cb-37212b386a59",
        "colab": {
          "base_uri": "https://localhost:8080/",
          "height": 68
        }
      },
      "source": [
        "#seed(x) = used to set the starting value used in generating random values.\n",
        "random.seed(2)\n",
        "print(random.randint(1,46)) #same seed value gives same randint\n",
        "\n",
        "random.seed(2)\n",
        "print(random.randint(1,46)) #same seed value gives same randint\n",
        "\n",
        "random.seed(10)\n",
        "print(random.randint(1,46)) #different seed value gives different randint.0"
      ],
      "execution_count": 7,
      "outputs": [
        {
          "output_type": "stream",
          "text": [
            "4\n",
            "4\n",
            "37\n"
          ],
          "name": "stdout"
        }
      ]
    },
    {
      "cell_type": "code",
      "metadata": {
        "id": "QP6mtmV7OIve",
        "colab_type": "code",
        "outputId": "045f7c4e-bb8c-4ddc-a729-1d98ec877f9a",
        "colab": {
          "base_uri": "https://localhost:8080/",
          "height": 51
        }
      },
      "source": [
        "#shuffle() = shuffle the passed list.\n",
        "L = [46,232,3014,1502]\n",
        "print(\"Original List : \",L)\n",
        "random.shuffle(L)\n",
        "print(\"Shuffled List : \",L)"
      ],
      "execution_count": 8,
      "outputs": [
        {
          "output_type": "stream",
          "text": [
            "Original List :  [46, 232, 3014, 1502]\n",
            "Shuffled List :  [1502, 3014, 232, 46]\n"
          ],
          "name": "stdout"
        }
      ]
    },
    {
      "cell_type": "code",
      "metadata": {
        "id": "hFRv1ekKO-lj",
        "colab_type": "code",
        "outputId": "ff340231-3a59-4c54-f697-e068b3624add",
        "colab": {
          "base_uri": "https://localhost:8080/",
          "height": 34
        }
      },
      "source": [
        "#uniform(x,y) : generates a random int which is greater than or equal to x & less than y\n",
        "print(random.uniform(1,46))"
      ],
      "execution_count": 9,
      "outputs": [
        {
          "output_type": "stream",
          "text": [
            "27.014108551051166\n"
          ],
          "name": "stdout"
        }
      ]
    }
  ]
}