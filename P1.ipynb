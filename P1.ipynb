{
  "nbformat": 4,
  "nbformat_minor": 0,
  "metadata": {
    "colab": {
      "name": "P1.ipynb",
      "provenance": []
    },
    "kernelspec": {
      "name": "python3",
      "display_name": "Python 3"
    }
  },
  "cells": [
    {
      "cell_type": "code",
      "metadata": {
        "id": "xWuRKa215WEw",
        "colab_type": "code",
        "colab": {}
      },
      "source": [
        "A program in python to demonstrate basic data type"
      ],
      "execution_count": 0,
      "outputs": []
    },
    {
      "cell_type": "markdown",
      "metadata": {
        "id": "0Z6bI8ce9P00",
        "colab_type": "text"
      },
      "source": [
        ""
      ]
    },
    {
      "cell_type": "code",
      "metadata": {
        "id": "zvvOf7489gvK",
        "colab_type": "code",
        "colab": {
          "base_uri": "https://localhost:8080/",
          "height": 136
        },
        "outputId": "60241620-cd5f-44c6-bf48-64549018cec5"
      },
      "source": [
        "i=46\n",
        "f=46.232\n",
        "s=\"This is a string!\"\n",
        "b=True\n",
        "l=[1,2,3]\n",
        "d={1,2,3}\n",
        "t=(1,2,3)\n",
        "\n",
        "print(type(i))\n",
        "print(type(f))\n",
        "print(type(s))\n",
        "print(type(b))\n",
        "print(type(l))\n",
        "print(type(d))\n",
        "print(type(t))"
      ],
      "execution_count": 1,
      "outputs": [
        {
          "output_type": "stream",
          "text": [
            "<class 'int'>\n",
            "<class 'float'>\n",
            "<class 'str'>\n",
            "<class 'bool'>\n",
            "<class 'list'>\n",
            "<class 'set'>\n",
            "<class 'tuple'>\n"
          ],
          "name": "stdout"
        }
      ]
    },
    {
      "cell_type": "code",
      "metadata": {
        "id": "qeQpApWx-Ytw",
        "colab_type": "code",
        "colab": {}
      },
      "source": [
        ""
      ],
      "execution_count": 0,
      "outputs": []
    }
  ]
}