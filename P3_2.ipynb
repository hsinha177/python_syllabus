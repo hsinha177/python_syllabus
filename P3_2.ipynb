{
  "nbformat": 4,
  "nbformat_minor": 0,
  "metadata": {
    "colab": {
      "name": "P3_2.ipynb",
      "provenance": []
    },
    "kernelspec": {
      "name": "python3",
      "display_name": "Python 3"
    }
  },
  "cells": [
    {
      "cell_type": "markdown",
      "metadata": {
        "id": "2mpTSQchMtk1",
        "colab_type": "text"
      },
      "source": [
        "Program using for loop to print decimal equivalents of 1/2,1/3,....,1/10"
      ]
    },
    {
      "cell_type": "code",
      "metadata": {
        "id": "AwPcU1QxHOB-",
        "colab_type": "code",
        "colab": {
          "base_uri": "https://localhost:8080/",
          "height": 51
        },
        "outputId": "7fe60682-b4ca-480e-f1c1-0755a13db075"
      },
      "source": [
        "decEqui = []\n",
        "\n",
        "for i in range(2,11):\n",
        "  x=1/i\n",
        "  decEqui.append(x)\n",
        "\n",
        "print(\"Decimal Eqivalents : \")\n",
        "print(decEqui)"
      ],
      "execution_count": 1,
      "outputs": [
        {
          "output_type": "stream",
          "text": [
            "Decimal Eqivalents : \n",
            "[0.5, 0.3333333333333333, 0.25, 0.2, 0.16666666666666666, 0.14285714285714285, 0.125, 0.1111111111111111, 0.1]\n"
          ],
          "name": "stdout"
        }
      ]
    },
    {
      "cell_type": "code",
      "metadata": {
        "id": "XcdBoy7kOOsX",
        "colab_type": "code",
        "colab": {}
      },
      "source": [
        ""
      ],
      "execution_count": 0,
      "outputs": []
    }
  ]
}