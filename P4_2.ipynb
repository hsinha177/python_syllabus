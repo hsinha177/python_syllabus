{
  "nbformat": 4,
  "nbformat_minor": 0,
  "metadata": {
    "colab": {
      "name": "P4_2.ipynb",
      "provenance": [],
      "include_colab_link": true
    },
    "kernelspec": {
      "name": "python3",
      "display_name": "Python 3"
    }
  },
  "cells": [
    {
      "cell_type": "markdown",
      "metadata": {
        "id": "view-in-github",
        "colab_type": "text"
      },
      "source": [
        "<a href=\"https://colab.research.google.com/github/hsinha177/python_syllabus/blob/master/P4_2.ipynb\" target=\"_parent\"><img src=\"https://colab.research.google.com/assets/colab-badge.svg\" alt=\"Open In Colab\"/></a>"
      ]
    },
    {
      "cell_type": "markdown",
      "metadata": {
        "id": "co6LWi5EObMl",
        "colab_type": "text"
      },
      "source": [
        "Program to print a sequence using loop"
      ]
    },
    {
      "cell_type": "code",
      "metadata": {
        "id": "NkzEqS1OOXFN",
        "colab_type": "code",
        "colab": {
          "base_uri": "https://localhost:8080/",
          "height": 51
        },
        "outputId": "fedb624b-5bde-44e8-a879-f42b3f085e4a"
      },
      "source": [
        "num = int(input(\"Enter the sequence range : \"))\n",
        "seQ=[]\n",
        "x=0\n",
        "for i in range(2,num):\n",
        "  x= 1+ (i-1)*7\n",
        "  seQ.append(x)\n",
        "\n",
        "print(seQ)"
      ],
      "execution_count": 4,
      "outputs": [
        {
          "output_type": "stream",
          "text": [
            "Enter the sequence range : 6\n",
            "[8, 15, 22, 29]\n"
          ],
          "name": "stdout"
        }
      ]
    },
    {
      "cell_type": "code",
      "metadata": {
        "id": "iAVSeEBvZ7c5",
        "colab_type": "code",
        "colab": {}
      },
      "source": [
        ""
      ],
      "execution_count": 0,
      "outputs": []
    }
  ]
}