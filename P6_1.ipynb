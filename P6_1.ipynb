{
  "nbformat": 4,
  "nbformat_minor": 0,
  "metadata": {
    "colab": {
      "name": "P6_1.ipynb",
      "provenance": []
    },
    "kernelspec": {
      "name": "python3",
      "display_name": "Python 3"
    }
  },
  "cells": [
    {
      "cell_type": "markdown",
      "metadata": {
        "id": "6juLWChwS91a",
        "colab_type": "text"
      },
      "source": [
        "Program to read characters in a string & store in a dictionary data structure\n"
      ]
    },
    {
      "cell_type": "code",
      "metadata": {
        "id": "XwaOIc4oP3nz",
        "colab_type": "code",
        "colab": {
          "base_uri": "https://localhost:8080/",
          "height": 139
        },
        "outputId": "b3480398-9546-4d49-e731-aa383feda2a9"
      },
      "source": [
        "s=input(\"Enter a string : \")\n",
        "countwhs=0\n",
        "counts=0\n",
        "countws=0\n",
        "wsc=0\n",
        "dds = {}\n",
        "for i in s:\n",
        "  countwhs+=1\n",
        "  dds[countwhs]=i\n",
        "  if i!= \" \":\n",
        "    counts+=1\n",
        "  else:\n",
        "    countws+=1\n",
        "wsc = countwhs - countws\n",
        "print(\"No. of characters(With Space) : \"+(str(countwhs)))\n",
        "print(\"No. of characters(Without Space) : \"+(str(wsc)))\n",
        "print(\"\\nAfter storing data in dictionary data structure(with Space) :\")\n",
        "print(dds)"
      ],
      "execution_count": 33,
      "outputs": [
        {
          "output_type": "stream",
          "text": [
            "Enter a string : Shalini Suman Sinha\n",
            "No. of characters(With Space) : 19\n",
            "No. of characters(Without Space) : 17\n",
            "\n",
            "After storing data in dictionary data structure(with Space) :\n",
            "{1: 'S', 2: 'h', 3: 'a', 4: 'l', 5: 'i', 6: 'n', 7: 'i', 8: ' ', 9: 'S', 10: 'u', 11: 'm', 12: 'a', 13: 'n', 14: ' ', 15: 'S', 16: 'i', 17: 'n', 18: 'h', 19: 'a'}\n"
          ],
          "name": "stdout"
        }
      ]
    },
    {
      "cell_type": "code",
      "metadata": {
        "id": "dT8BP48XQA2a",
        "colab_type": "code",
        "colab": {}
      },
      "source": [
        ""
      ],
      "execution_count": 0,
      "outputs": []
    }
  ]
}
