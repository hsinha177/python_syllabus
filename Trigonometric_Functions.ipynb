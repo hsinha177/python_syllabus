{
  "nbformat": 4,
  "nbformat_minor": 0,
  "metadata": {
    "colab": {
      "name": "Trigonometric_Functions.ipynb",
      "provenance": [],
      "collapsed_sections": [],
      "authorship_tag": "ABX9TyONxB2wjKNdI+XOtgJIS1aF"
    },
    "kernelspec": {
      "name": "python3",
      "display_name": "Python 3"
    }
  },
  "cells": [
    {
      "cell_type": "markdown",
      "metadata": {
        "id": "vyDjN32Hbt3d",
        "colab_type": "text"
      },
      "source": [
        "Illustrating trigo functions."
      ]
    },
    {
      "cell_type": "code",
      "metadata": {
        "id": "jM5krlGSbncu",
        "colab_type": "code",
        "colab": {}
      },
      "source": [
        "import math "
      ],
      "execution_count": 0,
      "outputs": []
    },
    {
      "cell_type": "code",
      "metadata": {
        "id": "ALSIvKKUMFfw",
        "colab_type": "code",
        "colab": {
          "base_uri": "https://localhost:8080/",
          "height": 34
        },
        "outputId": "a206b674-08e2-44c0-be9f-091e6feb935c"
      },
      "source": [
        "#degrees() : radian to degree conversion\n",
        "print(math.degrees(1))"
      ],
      "execution_count": 40,
      "outputs": [
        {
          "output_type": "stream",
          "text": [
            "57.29577951308232\n"
          ],
          "name": "stdout"
        }
      ]
    },
    {
      "cell_type": "code",
      "metadata": {
        "id": "ricL2v6WMFqX",
        "colab_type": "code",
        "colab": {
          "base_uri": "https://localhost:8080/",
          "height": 34
        },
        "outputId": "ed4327a3-9be7-4efe-a17e-b50b82274adc"
      },
      "source": [
        "#radians() : degree to radian conversion\n",
        "print(math.radians(57.29577951308232))"
      ],
      "execution_count": 41,
      "outputs": [
        {
          "output_type": "stream",
          "text": [
            "1.0\n"
          ],
          "name": "stdout"
        }
      ]
    },
    {
      "cell_type": "code",
      "metadata": {
        "id": "uou6N45ucF9l",
        "colab_type": "code",
        "outputId": "30be4c17-1dde-49fe-dba7-fb1fd9605938",
        "colab": {
          "base_uri": "https://localhost:8080/",
          "height": 51
        }
      },
      "source": [
        "#sin(x) : return sine of x. x is in radians\n",
        "print(math.asin(1)) #work for sin domain i.e., 0<=x<=1. return the radian at which given value of x exists.\n",
        "print((math.sin(math.radians(90)))) #work for sin x radians & return value. radians() : convert x value from degree to rad."
      ],
      "execution_count": 27,
      "outputs": [
        {
          "output_type": "stream",
          "text": [
            "1.5707963267948966\n",
            "1.0\n"
          ],
          "name": "stdout"
        }
      ]
    },
    {
      "cell_type": "code",
      "metadata": {
        "id": "TMBam-RhctAe",
        "colab_type": "code",
        "colab": {
          "base_uri": "https://localhost:8080/",
          "height": 51
        },
        "outputId": "1c5404b1-7b17-4d1a-e0f1-50e2c4b41650"
      },
      "source": [
        "#cos(x) : return cosine of x. x in radians.\n",
        "print(math.degrees(math.acos(0))) #here we enter the value of cos in it's domain 1-x-0; degree() : converted it to its respective degrees.\n",
        "print(math.cos(math.radians(0)))  #here we entered degree & it's respective value is displayed."
      ],
      "execution_count": 30,
      "outputs": [
        {
          "output_type": "stream",
          "text": [
            "90.0\n",
            "1.0\n"
          ],
          "name": "stdout"
        }
      ]
    },
    {
      "cell_type": "code",
      "metadata": {
        "id": "FBouN42rGmyu",
        "colab_type": "code",
        "colab": {
          "base_uri": "https://localhost:8080/",
          "height": 51
        },
        "outputId": "adcb8d44-d638-4c60-f62b-1849e57c3df4"
      },
      "source": [
        "#tan(x) : returns tangent of x. x in radians.\n",
        "print(math.degrees(math.atan(0))) #here value is converted to its respective angle in degrees.\n",
        "print(math.tan(math.radians(90))) #here degree is converted to its respective value.\n",
        "#print(math.degrees(math.atan2(30,45)))"
      ],
      "execution_count": 37,
      "outputs": [
        {
          "output_type": "stream",
          "text": [
            "0.0\n",
            "1.633123935319537e+16\n"
          ],
          "name": "stdout"
        }
      ]
    },
    {
      "cell_type": "code",
      "metadata": {
        "id": "ub00y_ahIkqy",
        "colab_type": "code",
        "colab": {
          "base_uri": "https://localhost:8080/",
          "height": 34
        },
        "outputId": "a5d8ed18-e504-4ab8-93e8-69e2a3aaae31"
      },
      "source": [
        "#hypot(x) : returns Euclidean norma;, sqrt(x*x+y*y)\n",
        "print(math.hypot(4,6)) #return sqrt(x*x+y*y)"
      ],
      "execution_count": 39,
      "outputs": [
        {
          "output_type": "stream",
          "text": [
            "7.211102550927978\n"
          ],
          "name": "stdout"
        }
      ]
    },
    {
      "cell_type": "code",
      "metadata": {
        "id": "r7jRdIjSLaEr",
        "colab_type": "code",
        "colab": {
          "base_uri": "https://localhost:8080/",
          "height": 51
        },
        "outputId": "de429386-9ca5-412b-ef7f-ae9db4069358"
      },
      "source": [
        "#MATH CONSTANTS\n",
        "print(math.pi)\n",
        "print(math.e)"
      ],
      "execution_count": 42,
      "outputs": [
        {
          "output_type": "stream",
          "text": [
            "3.141592653589793\n",
            "2.718281828459045\n"
          ],
          "name": "stdout"
        }
      ]
    }
  ]
}