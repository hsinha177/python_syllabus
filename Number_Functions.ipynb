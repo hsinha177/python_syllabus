{
  "nbformat": 4,
  "nbformat_minor": 0,
  "metadata": {
    "colab": {
      "name": "Number_Functions.ipynb",
      "provenance": [],
      "collapsed_sections": [],
      "authorship_tag": "ABX9TyMRofimzZq3RqpA48rrL1Cn"
    },
    "kernelspec": {
      "name": "python3",
      "display_name": "Python 3"
    }
  },
  "cells": [
    {
      "cell_type": "markdown",
      "metadata": {
        "id": "txftGH-6dN_r",
        "colab_type": "text"
      },
      "source": [
        "Demonstration of basic math functions related to number."
      ]
    },
    {
      "cell_type": "code",
      "metadata": {
        "id": "Cn7OXvKlfR4Y",
        "colab_type": "code",
        "colab": {}
      },
      "source": [
        "import math"
      ],
      "execution_count": 0,
      "outputs": []
    },
    {
      "cell_type": "code",
      "metadata": {
        "id": "fcA6t4pjbjKt",
        "colab_type": "code",
        "colab": {
          "base_uri": "https://localhost:8080/",
          "height": 68
        },
        "outputId": "5ed5aa27-1e32-4ec5-c3eb-d24807782a74"
      },
      "source": [
        "#abs() : returns the positive distance b/w '0' & \"X\"\n",
        "A= -46\n",
        "B= -232.3014\n",
        "C= 15-2j  #in case of complex it return the magnitue\n",
        "\n",
        "print(abs(A),\"\\n\",abs(B),\"\\n\",abs(C))"
      ],
      "execution_count": 2,
      "outputs": [
        {
          "output_type": "stream",
          "text": [
            "46 \n",
            " 232.3014 \n",
            " 15.132745950421556\n"
          ],
          "name": "stdout"
        }
      ]
    },
    {
      "cell_type": "code",
      "metadata": {
        "id": "2V1ONxzAeQxH",
        "colab_type": "code",
        "colab": {
          "base_uri": "https://localhost:8080/",
          "height": 34
        },
        "outputId": "13d0df4c-918f-4cde-e886-f5c7285c41b9"
      },
      "source": [
        "#ceil() : celling value function return smallest value of x i.e., not less than x\n",
        "A = 3014.1502\n",
        "print(math.ceil(A))"
      ],
      "execution_count": 3,
      "outputs": [
        {
          "output_type": "stream",
          "text": [
            "3015\n"
          ],
          "name": "stdout"
        }
      ]
    },
    {
      "cell_type": "code",
      "metadata": {
        "id": "fn5h5jzxe4H6",
        "colab_type": "code",
        "colab": {
          "base_uri": "https://localhost:8080/",
          "height": 51
        },
        "outputId": "ad1adbb2-7846-4662-ab00-d14e09d905c5"
      },
      "source": [
        "#exp() : to find the exponont of value. Only int & float\n",
        "A = 46\n",
        "B = 232.1502\n",
        "print(math.exp(A))\n",
        "print(math.exp(B))"
      ],
      "execution_count": 4,
      "outputs": [
        {
          "output_type": "stream",
          "text": [
            "9.496119420602448e+19\n",
            "6.630569517575975e+100\n"
          ],
          "name": "stdout"
        }
      ]
    },
    {
      "cell_type": "code",
      "metadata": {
        "id": "Suqir8mKk8RB",
        "colab_type": "code",
        "colab": {
          "base_uri": "https://localhost:8080/",
          "height": 34
        },
        "outputId": "e88e2849-19bf-4b0e-9fe9-9b785b8c9c11"
      },
      "source": [
        "#expm1() : to find the exponont-1 value. Only int & float. \n",
        "print(math.expm1(2))"
      ],
      "execution_count": 5,
      "outputs": [
        {
          "output_type": "stream",
          "text": [
            "6.38905609893065\n"
          ],
          "name": "stdout"
        }
      ]
    },
    {
      "cell_type": "code",
      "metadata": {
        "id": "EXt6yDPVgByR",
        "colab_type": "code",
        "colab": {
          "base_uri": "https://localhost:8080/",
          "height": 51
        },
        "outputId": "bfe186a1-9444-47f2-f526-ad598766e9f8"
      },
      "source": [
        "#fabs() : returns absolute value. Only int & float.\n",
        "A = -46\n",
        "B = 232.1502\n",
        "\n",
        "print(math.fabs(A))\n",
        "print(math.fabs(B))"
      ],
      "execution_count": 6,
      "outputs": [
        {
          "output_type": "stream",
          "text": [
            "46.0\n",
            "232.1502\n"
          ],
          "name": "stdout"
        }
      ]
    },
    {
      "cell_type": "code",
      "metadata": {
        "id": "hIU-8x_hh4_3",
        "colab_type": "code",
        "colab": {
          "base_uri": "https://localhost:8080/",
          "height": 68
        },
        "outputId": "8be1b714-6c2b-4588-94b8-27fef706cda1"
      },
      "source": [
        "#floor() : returns floor value. Only int & float.\n",
        "A = -46.232\n",
        "B = 46.232\n",
        "C = -1502\n",
        "print(math.floor(A))\n",
        "print(math.floor(B))\n",
        "print(math.floor(C))"
      ],
      "execution_count": 7,
      "outputs": [
        {
          "output_type": "stream",
          "text": [
            "-47\n",
            "46\n",
            "-1502\n"
          ],
          "name": "stdout"
        }
      ]
    },
    {
      "cell_type": "code",
      "metadata": {
        "id": "F2MaG5l2irtA",
        "colab_type": "code",
        "colab": {
          "base_uri": "https://localhost:8080/",
          "height": 34
        },
        "outputId": "ec4adeb2-880f-4ba0-a596-9b4d023fbcef"
      },
      "source": [
        "#log() : returns log value. with base \"e\".\n",
        "print(math.log(math.exp(1)))  "
      ],
      "execution_count": 8,
      "outputs": [
        {
          "output_type": "stream",
          "text": [
            "1.0\n"
          ],
          "name": "stdout"
        }
      ]
    },
    {
      "cell_type": "code",
      "metadata": {
        "id": "FpWGqfEtjfDt",
        "colab_type": "code",
        "colab": {
          "base_uri": "https://localhost:8080/",
          "height": 34
        },
        "outputId": "e36d5047-7209-4e36-d4e2-024a64372a52"
      },
      "source": [
        "#log10() : returns log value with base 10.\n",
        "print(math.log10(10))"
      ],
      "execution_count": 9,
      "outputs": [
        {
          "output_type": "stream",
          "text": [
            "1.0\n"
          ],
          "name": "stdout"
        }
      ]
    },
    {
      "cell_type": "code",
      "metadata": {
        "id": "FnY7Qye7kK2I",
        "colab_type": "code",
        "colab": {
          "base_uri": "https://localhost:8080/",
          "height": 34
        },
        "outputId": "a5903855-30c7-4f64-af07-b564c30faaca"
      },
      "source": [
        "#log1p() : returns log value of \"x+1\" with base 'e'.\n",
        "print(math.log1p(1))"
      ],
      "execution_count": 10,
      "outputs": [
        {
          "output_type": "stream",
          "text": [
            "0.6931471805599453\n"
          ],
          "name": "stdout"
        }
      ]
    },
    {
      "cell_type": "code",
      "metadata": {
        "id": "NdYGYdaSkXCG",
        "colab_type": "code",
        "colab": {
          "base_uri": "https://localhost:8080/",
          "height": 34
        },
        "outputId": "351400dd-50a0-4f1e-f73b-5c3593df7b7e"
      },
      "source": [
        "#log2() : returns log value with base 2.\n",
        "print(math.log2(2))"
      ],
      "execution_count": 11,
      "outputs": [
        {
          "output_type": "stream",
          "text": [
            "1.0\n"
          ],
          "name": "stdout"
        }
      ]
    },
    {
      "cell_type": "code",
      "metadata": {
        "id": "1rk5tUpbk610",
        "colab_type": "code",
        "colab": {
          "base_uri": "https://localhost:8080/",
          "height": 34
        },
        "outputId": "9b65cb50-7403-4951-80f4-fe20b1400047"
      },
      "source": [
        "#max() : max in the sequence is returned.\n",
        "print(max(10,15,46,232))"
      ],
      "execution_count": 12,
      "outputs": [
        {
          "output_type": "stream",
          "text": [
            "232\n"
          ],
          "name": "stdout"
        }
      ]
    },
    {
      "cell_type": "code",
      "metadata": {
        "id": "wDRpg3kLl2OY",
        "colab_type": "code",
        "colab": {
          "base_uri": "https://localhost:8080/",
          "height": 34
        },
        "outputId": "06acab4e-535d-4eb6-8359-789f0ecb8386"
      },
      "source": [
        "#min() : min in the sequence is returned.\n",
        "print(min(10,15,46,232))"
      ],
      "execution_count": 13,
      "outputs": [
        {
          "output_type": "stream",
          "text": [
            "10\n"
          ],
          "name": "stdout"
        }
      ]
    },
    {
      "cell_type": "code",
      "metadata": {
        "id": "GjP7GubamBWX",
        "colab_type": "code",
        "colab": {
          "base_uri": "https://localhost:8080/",
          "height": 34
        },
        "outputId": "161fe75a-cb19-4253-fde1-9489f7626808"
      },
      "source": [
        "#modf() : returns the fractional & integer part of value.\n",
        "print(math.modf(1502.3014))"
      ],
      "execution_count": 14,
      "outputs": [
        {
          "output_type": "stream",
          "text": [
            "(0.30140000000005784, 1502.0)\n"
          ],
          "name": "stdout"
        }
      ]
    },
    {
      "cell_type": "code",
      "metadata": {
        "id": "t0H1uel-mRix",
        "colab_type": "code",
        "colab": {
          "base_uri": "https://localhost:8080/",
          "height": 51
        },
        "outputId": "4d894214-c02a-4e9b-a761-bf35c60cf637"
      },
      "source": [
        "#pow(x,y,z) : return x**y%z.(IN MATH.POW()) only 2 args, i.e., x&y returns x**y\n",
        "print(math.pow(2,3))  #with math module only 2 args can be passed.\n",
        "print(pow(2,3,4))  #no math module needed."
      ],
      "execution_count": 15,
      "outputs": [
        {
          "output_type": "stream",
          "text": [
            "8.0\n",
            "0\n"
          ],
          "name": "stdout"
        }
      ]
    },
    {
      "cell_type": "code",
      "metadata": {
        "id": "MJe2UtcVnSrZ",
        "colab_type": "code",
        "colab": {
          "base_uri": "https://localhost:8080/",
          "height": 51
        },
        "outputId": "32fd2833-2341-465e-cabf-bb53dc9f6116"
      },
      "source": [
        "#round(x,n) : value of x is rounded to n digits.\n",
        "n=1\n",
        "print(round(232.1502,2))\n",
        "print(round(46.232,-(n)))"
      ],
      "execution_count": 16,
      "outputs": [
        {
          "output_type": "stream",
          "text": [
            "232.15\n",
            "50.0\n"
          ],
          "name": "stdout"
        }
      ]
    },
    {
      "cell_type": "code",
      "metadata": {
        "id": "f9zOyDD5oj2F",
        "colab_type": "code",
        "colab": {
          "base_uri": "https://localhost:8080/",
          "height": 51
        },
        "outputId": "e2ef980f-ba9c-4026-e659-e16e648625c0"
      },
      "source": [
        "#sqrt() : returns square root.\n",
        "print(math.sqrt(4))\n",
        "print(math.sqrt(46.232))"
      ],
      "execution_count": 17,
      "outputs": [
        {
          "output_type": "stream",
          "text": [
            "2.0\n",
            "6.799411739260978\n"
          ],
          "name": "stdout"
        }
      ]
    }
  ]
}