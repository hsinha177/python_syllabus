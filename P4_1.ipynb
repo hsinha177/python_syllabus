{
  "nbformat": 4,
  "nbformat_minor": 0,
  "metadata": {
    "colab": {
      "name": "P4_1.ipynb",
      "provenance": [],
      "include_colab_link": true
    },
    "kernelspec": {
      "name": "python3",
      "display_name": "Python 3"
    }
  },
  "cells": [
    {
      "cell_type": "markdown",
      "metadata": {
        "id": "view-in-github",
        "colab_type": "text"
      },
      "source": [
        "<a href=\"https://colab.research.google.com/github/hsinha177/python_syllabus/blob/master/P4_1.ipynb\" target=\"_parent\"><img src=\"https://colab.research.google.com/assets/colab-badge.svg\" alt=\"Open In Colab\"/></a>"
      ]
    },
    {
      "cell_type": "markdown",
      "metadata": {
        "id": "9m12QHv40RWo",
        "colab_type": "text"
      },
      "source": [
        "Program to show list & tuple"
      ]
    },
    {
      "cell_type": "code",
      "metadata": {
        "id": "mXQh8eF90Pdt",
        "colab_type": "code",
        "colab": {
          "base_uri": "https://localhost:8080/",
          "height": 85
        },
        "outputId": "1f9d2d15-d268-4a42-99d6-142151b44002"
      },
      "source": [
        "l=[1,2,3,4,5] #list declaration\n",
        "t={1,2,3,4,5} #tuple declaration\n",
        "\n",
        "print(l)\n",
        "print(t)\n",
        "\n",
        "print(type(l))\n",
        "print(type(t))"
      ],
      "execution_count": 2,
      "outputs": [
        {
          "output_type": "stream",
          "text": [
            "[1, 2, 3, 4, 5]\n",
            "{1, 2, 3, 4, 5}\n",
            "<class 'list'>\n",
            "<class 'set'>\n"
          ],
          "name": "stdout"
        }
      ]
    },
    {
      "cell_type": "code",
      "metadata": {
        "id": "sWwAP0M01XSI",
        "colab_type": "code",
        "colab": {}
      },
      "source": [
        ""
      ],
      "execution_count": 0,
      "outputs": []
    }
  ]
}