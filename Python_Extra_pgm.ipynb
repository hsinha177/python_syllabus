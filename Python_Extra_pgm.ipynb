{
  "nbformat": 4,
  "nbformat_minor": 0,
  "metadata": {
    "colab": {
      "name": "Python_Extra_pgm.ipynb",
      "provenance": [],
      "collapsed_sections": [],
      "authorship_tag": "ABX9TyOEaE1BLPFJR6CNy3tATDRk"
    },
    "kernelspec": {
      "name": "python3",
      "display_name": "Python 3"
    }
  },
  "cells": [
    {
      "cell_type": "markdown",
      "metadata": {
        "id": "gRtM-m0UAamr",
        "colab_type": "text"
      },
      "source": [
        "#1 WAP to perform arithematic operations.\n",
        "#2 WAP to suggest college on the basis of their percentage."
      ]
    },
    {
      "cell_type": "code",
      "metadata": {
        "id": "1DupJH73lRZv",
        "colab_type": "code",
        "outputId": "a2e776b0-907d-40b2-ba47-cd002800f68e",
        "colab": {
          "base_uri": "https://localhost:8080/",
          "height": 136
        }
      },
      "source": [
        "#Program 1\n",
        "nUm1 = int(input(\"Enter your first number : \"))\n",
        "nUm2 = int(input(\"Enter your second number : \"))\n",
        "\n",
        "print(\"Sum of \",nUm1,\" & \",nUm2,\"is : \",(nUm1+nUm2))\n",
        "print(\"Difference is : \",(nUm1-nUm2))\n",
        "print(\"Product is : \",(nUm1*nUm2))\n",
        "print(\"Quotient is : \",(nUm1/nUm2))\n",
        "print(\"Remainder is : \",(nUm1%nUm2))"
      ],
      "execution_count": 0,
      "outputs": [
        {
          "output_type": "stream",
          "text": [
            "Enter your first number : 46\n",
            "Enter your second number : 232\n",
            "Sum of  46  &  232 is :  278\n",
            "Difference is :  -186\n",
            "Product is :  10672\n",
            "Quotient is :  0.19827586206896552\n",
            "Remainder is :  46\n"
          ],
          "name": "stdout"
        }
      ]
    },
    {
      "cell_type": "code",
      "metadata": {
        "id": "aqsbLnzbxvHR",
        "colab_type": "code",
        "outputId": "520dec64-5e19-4712-da0b-7807d826d6f7",
        "colab": {
          "base_uri": "https://localhost:8080/",
          "height": 170
        }
      },
      "source": [
        "#Program 2\n",
        "mArks = []\n",
        "def pErcent(mArks):\n",
        "  tm = 0\n",
        "  total = len(mArks)*100\n",
        "  for i in mArks:\n",
        "    tm += i\n",
        "  perCent = (tm/total)*100\n",
        "  return perCent\n",
        "\n",
        "def cOllege(P):\n",
        "  if P>75:\n",
        "    return (\"Arya College\")\n",
        "  else:\n",
        "    return (\"IIT-Bombay\")\n",
        "\n",
        "sUb = int(input(\"Enter number of subjects : \"))\n",
        "print(\"Enter respective numbers : \")\n",
        "for i in range (0,sUb):\n",
        "  mArks.append(int(input()))\n",
        "pEr = pErcent(mArks)\n",
        "print(\"You have got\",cOllege(pEr),\"for councelling.\\nPercentage : \",pEr)"
      ],
      "execution_count": 0,
      "outputs": [
        {
          "output_type": "stream",
          "text": [
            "Enter number of subjects : 5\n",
            "Enter respective numbers : \n",
            "73\n",
            "71\n",
            "69\n",
            "74\n",
            "68\n",
            "You have got IIT-Bombay for councelling.\n",
            "Percentage :  71.0\n"
          ],
          "name": "stdout"
        }
      ]
    },
    {
      "cell_type": "code",
      "metadata": {
        "id": "Pa9Wd7tM1oST",
        "colab_type": "code",
        "colab": {
          "base_uri": "https://localhost:8080/",
          "height": 51
        },
        "outputId": "59eeb96a-616b-4a72-bf1b-dd9c862797f2"
      },
      "source": [
        "#3 sum of n-diigt numbr\n",
        "def digitSum(n): \n",
        "    sum = 0\n",
        "    while (n != 0): \n",
        "\n",
        "        sum = sum + int(n % 10) \n",
        "        n = int(n/10) \n",
        "   \n",
        "    return sum\n",
        "n = int(input('Enter any n-digit number number: '))\n",
        "print(\"Sum : \",digitSum(n))"
      ],
      "execution_count": 7,
      "outputs": [
        {
          "output_type": "stream",
          "text": [
            "Enter any n-digit number number: 12345\n",
            "Sum :  15\n"
          ],
          "name": "stdout"
        }
      ]
    },
    {
      "cell_type": "code",
      "metadata": {
        "id": "Yx7CSvG-2sc-",
        "colab_type": "code",
        "colab": {
          "base_uri": "https://localhost:8080/",
          "height": 136
        },
        "outputId": "c9db7af8-06ab-465d-f10a-fa0df0a80185"
      },
      "source": [
        "#4 ATM note indexing\n",
        "n2000 = 0\n",
        "n500 = 0\n",
        "n200 = 0\n",
        "n100 = 0\n",
        "CoUnT = 3\n",
        "while(CoUnT>0):\n",
        "    if(CoUnT == 1):\n",
        "        print(\"\\nLast Attempt.\")\n",
        "    AmoUnT = int(input(\"Enter the amount : \"))\n",
        "    TmP = AmoUnT\n",
        "    \n",
        "    if(((AmoUnT%100 != 0)|(AmoUnT==0))&(CoUnT > 1)):\n",
        "        print(\"Amount entered cannot be dispensed.\\nEnter in the multiple of hundreds.\")\n",
        "        CoUnT -=1\n",
        "    \n",
        "    elif((AmoUnT%100 != 0)|(AmoUnT==0)&(CoUnT == 1)):\n",
        "        print(\"Amount entered cannot be dispensed.\")\n",
        "        CoUnT -=1\n",
        "        \n",
        "    elif(AmoUnT > 10000):\n",
        "        print(\"Amount limit excedded.\")\n",
        "        CoUnT -= 1\n",
        "        \n",
        "    else :\n",
        "        while(AmoUnT):\n",
        "            if(AmoUnT/2000>=1):\n",
        "                n2000 = int(AmoUnT/2000)\n",
        "                AmoUnT = AmoUnT % 2000\n",
        "            elif(AmoUnT/500 >= 1):\n",
        "                n500 = int(AmoUnT/500)\n",
        "                AmoUnT = AmoUnT % 500\n",
        "            elif(AmoUnT/200 >= 1):\n",
        "                n200 = int(AmoUnT/200)\n",
        "                AmoUnT = AmoUnT % 200\n",
        "            elif(AmoUnT/100 >= 1):\n",
        "                n100 = int(AmoUnT/100)\n",
        "                AmoUnT = AmoUnT % 100\n",
        "            \n",
        "        print(\"Indexing notes for amount \"+str(TmP)+\" is : \\n\")\n",
        "        print(\"Rs. 2000 : \",n2000)\n",
        "        print(\"Rs. 500 : \",n500)\n",
        "        print(\"Rs. 200 : \",n200)\n",
        "        print(\"Rs. 100 : \",n100)\n",
        "        break"
      ],
      "execution_count": 9,
      "outputs": [
        {
          "output_type": "stream",
          "text": [
            "Enter the amount : 4600\n",
            "Indexing notes for amount 4600 is : \n",
            "\n",
            "Rs. 2000 :  2\n",
            "Rs. 500 :  1\n",
            "Rs. 200 :  0\n",
            "Rs. 100 :  1\n"
          ],
          "name": "stdout"
        }
      ]
    }
  ]
}