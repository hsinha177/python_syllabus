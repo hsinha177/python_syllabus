{
  "nbformat": 4,
  "nbformat_minor": 0,
  "metadata": {
    "colab": {
      "name": "python_lab_30-01-2020.ipynb",
      "provenance": [],
      "collapsed_sections": [],
      "authorship_tag": "ABX9TyOBlHF7sgW4xjR+JTOI+NTH",
      "include_colab_link": true
    },
    "kernelspec": {
      "name": "python3",
      "display_name": "Python 3"
    },
    "accelerator": "TPU"
  },
  "cells": [
    {
      "cell_type": "markdown",
      "metadata": {
        "id": "view-in-github",
        "colab_type": "text"
      },
      "source": [
        "<a href=\"https://colab.research.google.com/github/hsinha177/python_syllabus/blob/master/python_lab_30_01_2020.ipynb\" target=\"_parent\"><img src=\"https://colab.research.google.com/assets/colab-badge.svg\" alt=\"Open In Colab\"/></a>"
      ]
    },
    {
      "cell_type": "code",
      "metadata": {
        "id": "ywpN7EyGq0Fo",
        "colab_type": "code",
        "outputId": "24fc6fc4-9803-442a-9a86-85226cdc7641",
        "colab": {
          "base_uri": "https://localhost:8080/",
          "height": 306
        }
      },
      "source": [
        "num = int(input(\"Enter iteration : \"))\n",
        "print(\"Iteration without step size : \")\n",
        "for i in range(0,num):\n",
        "  print(i)\n",
        "\n",
        "stepSize = int(input(\"Enter step size : \"))\n",
        "print(\"Iteration step size : \")\n",
        "for i in range(0,num,stepSize):\n",
        "  print(i)"
      ],
      "execution_count": 0,
      "outputs": [
        {
          "output_type": "stream",
          "text": [
            "Enter iteration : 10\n",
            "Iteration without step size : \n",
            "0\n",
            "1\n",
            "2\n",
            "3\n",
            "4\n",
            "5\n",
            "6\n",
            "7\n",
            "8\n",
            "9\n",
            "Enter step size : 3\n",
            "0\n",
            "3\n",
            "6\n",
            "9\n"
          ],
          "name": "stdout"
        }
      ]
    },
    {
      "cell_type": "code",
      "metadata": {
        "id": "SxP-HliHo_7B",
        "colab_type": "code",
        "outputId": "8be20180-00f7-4a79-dbb6-d083551bd9b9",
        "colab": {
          "base_uri": "https://localhost:8080/",
          "height": 51
        }
      },
      "source": [
        "decEqui = []\n",
        "\n",
        "for i in range(1,11):\n",
        "  x=1/i\n",
        "  decEqui.append(x)\n",
        "\n",
        "print(\"Decimal Eqivalents : \")\n",
        "print(decEqui)"
      ],
      "execution_count": 0,
      "outputs": [
        {
          "output_type": "stream",
          "text": [
            "Decimal Eqivalents : \n",
            "[1.0, 0.5, 0.3333333333333333, 0.25, 0.2, 0.16666666666666666, 0.14285714285714285, 0.125, 0.1111111111111111, 0.1]\n"
          ],
          "name": "stdout"
        }
      ]
    },
    {
      "cell_type": "code",
      "metadata": {
        "id": "S28wB8Ztp9e6",
        "colab_type": "code",
        "outputId": "a4b1bac9-b734-48a0-b8e9-590cdcbfe490",
        "colab": {
          "base_uri": "https://localhost:8080/",
          "height": 68
        }
      },
      "source": [
        "decEqui = []\n",
        "\n",
        "iTeration = int(input(\"Enter the no of iteration you want to get decimal equivalent : \"))\n",
        "for i in range(1,iTeration+1):\n",
        "  x=1/i\n",
        "  decEqui.append(x)\n",
        "\n",
        "print(\"Decimal Eqivalents : \")\n",
        "print(decEqui)"
      ],
      "execution_count": 0,
      "outputs": [
        {
          "output_type": "stream",
          "text": [
            "Enter the no of iteration you want to get decimal equivalent : 5\n",
            "Decimal Eqivalents : \n",
            "[1.0, 0.5, 0.3333333333333333, 0.25, 0.2]\n"
          ],
          "name": "stdout"
        }
      ]
    },
    {
      "cell_type": "code",
      "metadata": {
        "id": "TDw6F-D6qe8A",
        "colab_type": "code",
        "outputId": "56e5783e-f0cf-4d7f-e5f9-6d6592fcc900",
        "colab": {
          "base_uri": "https://localhost:8080/",
          "height": 85
        }
      },
      "source": [
        "decEqui = []\n",
        "count = 3\n",
        "\n",
        "while(count):\n",
        "  StarT = int(input(\"Enter Starting value : \"))\n",
        "  iTeration = int(input(\"Enter the stopping value : \"))\n",
        "\n",
        "  if((StarT == 0) | (iTeration == 0)):\n",
        "    print(\"Divion error !\")\n",
        "    count -= 1\n",
        "  elif(StarT > iTeration):\n",
        "    print(\"no of iterations can't be less than starting value.\")\n",
        "    count -= 1\n",
        "  else:\n",
        "    for i in range(StarT,iTeration+1):\n",
        "      x=1/i\n",
        "      decEqui.append(round(x,2))\n",
        "    print(\"Decimal Eqivalents : \")\n",
        "    print(decEqui)\n",
        "    break\n"
      ],
      "execution_count": 0,
      "outputs": [
        {
          "output_type": "stream",
          "text": [
            "Enter Starting value : 5\n",
            "Enter the no of iteration you want to get decimal equivalent : 10\n",
            "Decimal Eqivalents : \n",
            "[0.2, 0.17, 0.14, 0.12, 0.11, 0.1]\n"
          ],
          "name": "stdout"
        }
      ]
    },
    {
      "cell_type": "code",
      "metadata": {
        "id": "q7LvqudAyAOO",
        "colab_type": "code",
        "outputId": "d075f492-b556-44d8-90b0-965d9c39f5bf",
        "colab": {
          "base_uri": "https://localhost:8080/",
          "height": 187
        }
      },
      "source": [
        "for i in range(1,6):\n",
        "  for j in range(0,i):\n",
        "    print(\"*\", end = ' ')\n",
        "  print(\"\\n\")"
      ],
      "execution_count": 0,
      "outputs": [
        {
          "output_type": "stream",
          "text": [
            "* \n",
            "\n",
            "* * \n",
            "\n",
            "* * * \n",
            "\n",
            "* * * * \n",
            "\n",
            "* * * * * \n",
            "\n"
          ],
          "name": "stdout"
        }
      ]
    },
    {
      "cell_type": "code",
      "metadata": {
        "id": "bZwf0372ywu2",
        "colab_type": "code",
        "outputId": "16b23107-95d3-4cad-fe95-f26f26d75449",
        "colab": {
          "base_uri": "https://localhost:8080/",
          "height": 51
        }
      },
      "source": [
        "import math\n",
        "num = float(input(\"Enter floating number :\"))\n",
        "print(\"decimal equivalent & int equivalent : \",math.modf(num))"
      ],
      "execution_count": 1,
      "outputs": [
        {
          "output_type": "stream",
          "text": [
            "Enter floating number :232.232\n",
            "decimal equivalent & int equivalent :  (0.23199999999999932, 232.0)\n"
          ],
          "name": "stdout"
        }
      ]
    },
    {
      "cell_type": "code",
      "metadata": {
        "id": "_xEebeoF2OIw",
        "colab_type": "code",
        "outputId": "cc5cb295-19b6-4684-b2fd-06a8c26cca3d",
        "colab": {
          "base_uri": "https://localhost:8080/",
          "height": 51
        }
      },
      "source": [
        "num = float(input(\"Enter floating number :\"))\n",
        "num1 = int(num)\n",
        "f = num - num1\n",
        "print(f)"
      ],
      "execution_count": 0,
      "outputs": [
        {
          "output_type": "stream",
          "text": [
            "Enter floating number :232.232\n",
            "0.23199999999999932\n"
          ],
          "name": "stdout"
        }
      ]
    }
  ]
}