{
  "nbformat": 4,
  "nbformat_minor": 0,
  "metadata": {
    "colab": {
      "name": "P6_2.ipynb",
      "provenance": [],
      "collapsed_sections": []
    },
    "kernelspec": {
      "name": "python3",
      "display_name": "Python 3"
    }
  },
  "cells": [
    {
      "cell_type": "markdown",
      "metadata": {
        "id": "lkgUM7kmvHyG",
        "colab_type": "text"
      },
      "source": [
        "Split-join method, predict bday in Dict. DT\n",
        "//partially performed"
      ]
    },
    {
      "cell_type": "code",
      "metadata": {
        "id": "lJtnTNqu08mL",
        "colab_type": "code",
        "colab": {
          "base_uri": "https://localhost:8080/",
          "height": 51
        },
        "outputId": "c7c92f6c-76db-41a5-87ba-a5911c2ba622"
      },
      "source": [
        "def split_string(string): \n",
        "    return string.split(' ')\n",
        "  \n",
        "def join_string(list_string):\n",
        "    return ('_'.join(list_string))\n",
        "   \n",
        "if __name__ == '__main__': \n",
        "    string = input(\"Enter string : \") \n",
        "    list_string = split_string(string) \n",
        "    print(join_string(list_string))"
      ],
      "execution_count": 10,
      "outputs": [
        {
          "output_type": "stream",
          "text": [
            "Enter string : hey its tiem foe fun..!\n",
            "hey_its_tiem_foe_fun..!\n"
          ],
          "name": "stdout"
        }
      ]
    }
  ]
}