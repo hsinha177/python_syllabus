{
  "nbformat": 4,
  "nbformat_minor": 0,
  "metadata": {
    "colab": {
      "name": "P3_1.ipynb",
      "provenance": [],
      "collapsed_sections": []
    },
    "kernelspec": {
      "name": "python3",
      "display_name": "Python 3"
    }
  },
  "cells": [
    {
      "cell_type": "markdown",
      "metadata": {
        "id": "ao9QxpUVFoPa",
        "colab_type": "text"
      },
      "source": [
        "Program to check even or not"
      ]
    },
    {
      "cell_type": "code",
      "metadata": {
        "id": "dpN3wqS4Eyj3",
        "colab_type": "code",
        "colab": {
          "base_uri": "https://localhost:8080/",
          "height": 51
        },
        "outputId": "c2e72a39-e278-482f-ecd3-02365b3bcb05"
      },
      "source": [
        "num = int(input(\"Enter a number : \"))\n",
        "\n",
        "if num!=0:\n",
        "  if num%2==0:\n",
        "    print(\"Even no..\")\n",
        "  else:\n",
        "    print(\"Not even.\")\n",
        "else:\n",
        "  print(\"Neither Even nor Odd!\")"
      ],
      "execution_count": 1,
      "outputs": [
        {
          "output_type": "stream",
          "text": [
            "Enter a number : 35\n",
            "Not even.\n"
          ],
          "name": "stdout"
        }
      ]
    }
  ]
}