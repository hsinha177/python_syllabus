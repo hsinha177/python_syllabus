{
  "nbformat": 4,
  "nbformat_minor": 0,
  "metadata": {
    "colab": {
      "name": "Datatype Conversions.ipynb",
      "provenance": [],
      "collapsed_sections": []
    },
    "kernelspec": {
      "name": "python3",
      "display_name": "Python 3"
    }
  },
  "cells": [
    {
      "cell_type": "markdown",
      "metadata": {
        "id": "K8bK1luZuT-W",
        "colab_type": "text"
      },
      "source": [
        "Illustrating datatypes conversions."
      ]
    },
    {
      "cell_type": "code",
      "metadata": {
        "id": "bVXUbsHwJFHF",
        "colab_type": "code",
        "outputId": "2f20ece3-421a-4cb9-9575-9481e46b7b59",
        "colab": {
          "base_uri": "https://localhost:8080/",
          "height": 68
        }
      },
      "source": [
        "#string to int conversion\n",
        "\n",
        "print(int(\"Edd\",16)) #0xEDD | 0XEDD will also give same result in base.\n",
        "\n",
        "print(int(\"777\",8))  #0o777 | 0O777 will also give same result in base.\n",
        "\n",
        "print(int(\"10110\",2))  #0b10110 | 0B10110 will also give same result in base.\n",
        "\n",
        "#A normal string can't be converted to Integer using these functions. Will through error as ValueError."
      ],
      "execution_count": 1,
      "outputs": [
        {
          "output_type": "stream",
          "text": [
            "3805\n",
            "511\n",
            "22\n"
          ],
          "name": "stdout"
        }
      ]
    },
    {
      "cell_type": "code",
      "metadata": {
        "id": "FdANa456JllN",
        "colab_type": "code",
        "outputId": "ac508b76-58ef-41c2-9ea5-00c4d7241732",
        "colab": {
          "base_uri": "https://localhost:8080/",
          "height": 51
        }
      },
      "source": [
        "#floating point conversion\n",
        "\n",
        "print(float(46))  #int to float only\n",
        "\n",
        "print(float(0xA01)) #can convert string with prefix of binary(0b/B), Octal(0o/O) or Hex(0x/X).\n",
        "\n",
        "#Only one string/int value can be converted at a time. Multiple argument using \",\" can't be passed; Posses TypeError"
      ],
      "execution_count": 2,
      "outputs": [
        {
          "output_type": "stream",
          "text": [
            "46.0\n",
            "2561.0\n"
          ],
          "name": "stdout"
        }
      ]
    },
    {
      "cell_type": "code",
      "metadata": {
        "id": "r9oNvkIGNm_-",
        "colab_type": "code",
        "outputId": "1b06b649-8a7d-4d48-f994-a5c4dae8b2b2",
        "colab": {
          "base_uri": "https://localhost:8080/",
          "height": 51
        }
      },
      "source": [
        "#complex number\n",
        "\n",
        "print(complex(46))\n",
        "\n",
        "print(complex(46+3*2j))\n",
        "\n",
        "#complex number can't be converted to int or float. By default the value of imaginary part is 0."
      ],
      "execution_count": 3,
      "outputs": [
        {
          "output_type": "stream",
          "text": [
            "(46+0j)\n",
            "(46+6j)\n"
          ],
          "name": "stdout"
        }
      ]
    },
    {
      "cell_type": "code",
      "metadata": {
        "id": "qr2xAdDPPN7n",
        "colab_type": "code",
        "outputId": "1b6246c2-5c0b-4bfb-a043-16191a1335ec",
        "colab": {
          "base_uri": "https://localhost:8080/",
          "height": 306
        }
      },
      "source": [
        "#String conversion\n",
        "\n",
        "print(\"Before Conversion type : \",type(46))\n",
        "print(\"After Conversion type : \",type(str(46)))\n",
        "\n",
        "print(\"\\nBefore Conversion type : \",type(46.232))\n",
        "print(\"After Conversion type : \",type(str(46.232)))\n",
        "\n",
        "print(\"\\nBefore Conversion type : \",type(46+232j))\n",
        "print(\"After Conversion type : \",type(str(46+232j)))\n",
        "\n",
        "print(\"\\nBefore Conversion type : \",type(0b101))\n",
        "print(\"After Conversion type : \",type(str(0b101)))\n",
        "\n",
        "print(\"\\nBefore Conversion type : \",type(0o46232))\n",
        "print(\"After Conversion type : \",type(str(0o46232)))\n",
        "\n",
        "print(\"\\nBefore Conversion type : \",type(0xABC))\n",
        "print(\"After Conversion type : \",type(str(0xABC)))"
      ],
      "execution_count": 4,
      "outputs": [
        {
          "output_type": "stream",
          "text": [
            "Before Conversion type :  <class 'int'>\n",
            "After Conversion type :  <class 'str'>\n",
            "\n",
            "Before Conversion type :  <class 'float'>\n",
            "After Conversion type :  <class 'str'>\n",
            "\n",
            "Before Conversion type :  <class 'complex'>\n",
            "After Conversion type :  <class 'str'>\n",
            "\n",
            "Before Conversion type :  <class 'int'>\n",
            "After Conversion type :  <class 'str'>\n",
            "\n",
            "Before Conversion type :  <class 'int'>\n",
            "After Conversion type :  <class 'str'>\n",
            "\n",
            "Before Conversion type :  <class 'int'>\n",
            "After Conversion type :  <class 'str'>\n"
          ],
          "name": "stdout"
        }
      ]
    },
    {
      "cell_type": "code",
      "metadata": {
        "id": "xos_pLolQkDm",
        "colab_type": "code",
        "outputId": "0eacd940-a310-4781-a0da-f1a6cb1d0525",
        "colab": {
          "base_uri": "https://localhost:8080/",
          "height": 51
        }
      },
      "source": [
        "#Expression String (repr)\n",
        "import datetime \n",
        "today = datetime.datetime.now() \n",
        "  \n",
        "# Prints readable format for date-time object \n",
        "print (str(today)) \n",
        "  \n",
        "# prints the official format of date-time object \n",
        "print (repr(today))      "
      ],
      "execution_count": 5,
      "outputs": [
        {
          "output_type": "stream",
          "text": [
            "2020-01-10 07:37:16.595745\n",
            "datetime.datetime(2020, 1, 10, 7, 37, 16, 595745)\n"
          ],
          "name": "stdout"
        }
      ]
    },
    {
      "cell_type": "code",
      "metadata": {
        "id": "XP3LMsgfUZfW",
        "colab_type": "code",
        "colab": {
          "base_uri": "https://localhost:8080/",
          "height": 51
        },
        "outputId": "aac46642-f0d9-49b1-a64e-e7eb9bea774b"
      },
      "source": [
        "#eval() evaluation of string\n",
        "#it only evaluates the expression of the string & doesn't accept string as a collection of characters.\n",
        "\n",
        "print(type(eval(\"(2+3j)+(5+7j)\")))  #The type of the eval output depends upon the type of the string expression.\n",
        "\n",
        "eval(\"46*232\")"
      ],
      "execution_count": 6,
      "outputs": [
        {
          "output_type": "stream",
          "text": [
            "<class 'complex'>\n"
          ],
          "name": "stdout"
        },
        {
          "output_type": "execute_result",
          "data": {
            "text/plain": [
              "10672"
            ]
          },
          "metadata": {
            "tags": []
          },
          "execution_count": 6
        }
      ]
    },
    {
      "cell_type": "code",
      "metadata": {
        "id": "Q9p3WlwryO6q",
        "colab_type": "code",
        "colab": {
          "base_uri": "https://localhost:8080/",
          "height": 51
        },
        "outputId": "f5f3c7ca-3071-418a-d804-e21e6467f787"
      },
      "source": [
        "#tuple -> () : collection of hetrogenous datatypes in a single 'kind of array' concept datatype & is immutable.\n",
        "#creating empty tuple : T=()\n",
        "T = (1,2,3,4,5,6.46,\"Harsh\",3+7j)\n",
        "print(type(T))\n",
        "print(T)"
      ],
      "execution_count": 7,
      "outputs": [
        {
          "output_type": "stream",
          "text": [
            "<class 'tuple'>\n",
            "(1, 2, 3, 4, 5, 6.46, 'Harsh', (3+7j))\n"
          ],
          "name": "stdout"
        }
      ]
    },
    {
      "cell_type": "code",
      "metadata": {
        "id": "S9gVMX0927MU",
        "colab_type": "code",
        "colab": {
          "base_uri": "https://localhost:8080/",
          "height": 68
        },
        "outputId": "7da0f8bb-a25c-4f7a-a453-45561d55242a"
      },
      "source": [
        "#List -> [] : collection of hetrogenous datatypes in a single 'kind of array' concept datatype & is mutable.\n",
        "#create empty list : L=[]\n",
        "\n",
        "L=[1,2,3,4.6,\"Harsh\",46+232j]\n",
        "print(type(L))\n",
        "print(L) #printing list without modification\n",
        "\n",
        "L.append(\"List can be modified, Tuple can't. once tuple values are given can't be appended in future.\")\n",
        "print(L) #printing list after modification"
      ],
      "execution_count": 8,
      "outputs": [
        {
          "output_type": "stream",
          "text": [
            "<class 'list'>\n",
            "[1, 2, 3, 4.6, 'Harsh', (46+232j)]\n",
            "[1, 2, 3, 4.6, 'Harsh', (46+232j), \"List can be modified, Tuple can't. once tuple values are given can't be appended in future.\"]\n"
          ],
          "name": "stdout"
        }
      ]
    },
    {
      "cell_type": "code",
      "metadata": {
        "id": "qMSpbXcC4MC4",
        "colab_type": "code",
        "colab": {
          "base_uri": "https://localhost:8080/",
          "height": 136
        },
        "outputId": "176bd9fa-448c-4679-b037-2349c8e74c49"
      },
      "source": [
        "#Set -> {} : collection of hetrogenous datatypes in a single 'kind of array' concept datatype. it is mutable.\n",
        "#also a dictionary either with key or values but not both at same time.\n",
        "#set can't be empty, empty set is considered as empty dictionary by default.\n",
        "S1={} #empty set, compiler consider it as a dictionary.\n",
        "print(type(S1))\n",
        "print()\n",
        "\n",
        "#method 1 for set declaration\n",
        "S={1,2,3,4.6,\"Harsh\",2+32j}\n",
        "print(type(S))\n",
        "print(S,\"\\n\")\n",
        "\n",
        "#method 2 for set declaration\n",
        "S2=set([1,2,3,\"Hasrh\",2+32j,\"Collab\"])\n",
        "print(type(S2))\n",
        "print(S2)"
      ],
      "execution_count": 9,
      "outputs": [
        {
          "output_type": "stream",
          "text": [
            "<class 'dict'>\n",
            "\n",
            "<class 'set'>\n",
            "{1, 2, 3, 4.6, (2+32j), 'Harsh'} \n",
            "\n",
            "<class 'set'>\n",
            "{1, 2, 3, (2+32j), 'Hasrh', 'Collab'}\n"
          ],
          "name": "stdout"
        }
      ]
    },
    {
      "cell_type": "code",
      "metadata": {
        "id": "dG98tVr05zqO",
        "colab_type": "code",
        "colab": {
          "base_uri": "https://localhost:8080/",
          "height": 136
        },
        "outputId": "d61287ff-ff5b-491e-dc1f-23c4fbba82d3"
      },
      "source": [
        "#Dictionary -> {key:value, key2:value2, ... , keyN:valueN} : collection of hetrogenous datatypes in a single 'kind of array' concept datatype. it is mutable.\n",
        "#Dictionary have 2 components a)Key, b)value.\n",
        "D = {}\n",
        "print(type(D),\"\\n\")\n",
        "\n",
        "D1= {1:\"Harsh\",2:\"Shubham\",3:\"Aarav\",4:\"Sharav\"}\n",
        "print(D1)\n",
        "print(type(D1),\"\\n\")\n",
        "\n",
        "D2= {\"A\":46,\"B\":232,\"C\":3014,\"D\":1502}\n",
        "print(D2)\n",
        "print(type(D2))"
      ],
      "execution_count": 10,
      "outputs": [
        {
          "output_type": "stream",
          "text": [
            "<class 'dict'> \n",
            "\n",
            "{1: 'Harsh', 2: 'Shubham', 3: 'Aarav', 4: 'Sharav'}\n",
            "<class 'dict'> \n",
            "\n",
            "{'A': 46, 'B': 232, 'C': 3014, 'D': 1502}\n",
            "<class 'dict'>\n"
          ],
          "name": "stdout"
        }
      ]
    },
    {
      "cell_type": "code",
      "metadata": {
        "id": "0vqtZMKKxHmA",
        "colab_type": "code",
        "colab": {
          "base_uri": "https://localhost:8080/",
          "height": 153
        },
        "outputId": "86ffdc31-23c4-489e-ee04-8b927ba56091"
      },
      "source": [
        "#Tuple conversion\n",
        "A=[46,232,3014,1502]  #list to tuple\n",
        "print(type(A))\n",
        "print(type(tuple(A)),A,\"\\n\")\n",
        "\n",
        "B={46,232,3014,1502}  #set to tuple\n",
        "print(type(B))\n",
        "print(type(tuple(B)),B,\"\\n\")\n",
        "\n",
        "C={1:46,2:232,3:3014,4:1502}  #dict ot tuple\n",
        "print(type(C))\n",
        "print(type(tuple(C)),C)"
      ],
      "execution_count": 11,
      "outputs": [
        {
          "output_type": "stream",
          "text": [
            "<class 'list'>\n",
            "<class 'tuple'> [46, 232, 3014, 1502] \n",
            "\n",
            "<class 'set'>\n",
            "<class 'tuple'> {232, 1502, 3014, 46} \n",
            "\n",
            "<class 'dict'>\n",
            "<class 'tuple'> {1: 46, 2: 232, 3: 3014, 4: 1502}\n"
          ],
          "name": "stdout"
        }
      ]
    },
    {
      "cell_type": "code",
      "metadata": {
        "id": "ueJuXzOVybfg",
        "colab_type": "code",
        "colab": {
          "base_uri": "https://localhost:8080/",
          "height": 153
        },
        "outputId": "7409812c-3f97-4664-8cd6-52611502297c"
      },
      "source": [
        "#List conversion\n",
        "A=(46,232,3014,1502)  #tuple\n",
        "print(type(A))\n",
        "print(type(list(A)),A,\"\\n\")\n",
        "\n",
        "B={46,232,3014,1502}  #set\n",
        "print(type(B))\n",
        "print(type(list(B)),B,\"\\n\")\n",
        "\n",
        "C={1:46,2:232,3:3014,4:1502}  #dict\n",
        "print(type(C))\n",
        "print(type(list(C)),C)"
      ],
      "execution_count": 12,
      "outputs": [
        {
          "output_type": "stream",
          "text": [
            "<class 'tuple'>\n",
            "<class 'list'> (46, 232, 3014, 1502) \n",
            "\n",
            "<class 'set'>\n",
            "<class 'list'> {232, 1502, 3014, 46} \n",
            "\n",
            "<class 'dict'>\n",
            "<class 'list'> {1: 46, 2: 232, 3: 3014, 4: 1502}\n"
          ],
          "name": "stdout"
        }
      ]
    },
    {
      "cell_type": "code",
      "metadata": {
        "id": "m5DXnwAd0uBy",
        "colab_type": "code",
        "colab": {
          "base_uri": "https://localhost:8080/",
          "height": 153
        },
        "outputId": "828172c6-88db-44da-ac73-86b82d484e92"
      },
      "source": [
        "#set conversion\n",
        "A=[46,232,3014,1502]  #list\n",
        "print(type(A))\n",
        "print(type(set(A)),A,\"\\n\")\n",
        "\n",
        "B=(46,232,3014,1502)  #tuple\n",
        "print(type(B))\n",
        "print(type(set(B)),B,\"\\n\")\n",
        "\n",
        "C={1:46,2:232,3:3014,4:1502}  #dict\n",
        "print(type(C))\n",
        "print(type(set(C)),C)"
      ],
      "execution_count": 13,
      "outputs": [
        {
          "output_type": "stream",
          "text": [
            "<class 'list'>\n",
            "<class 'set'> [46, 232, 3014, 1502] \n",
            "\n",
            "<class 'tuple'>\n",
            "<class 'set'> (46, 232, 3014, 1502) \n",
            "\n",
            "<class 'dict'>\n",
            "<class 'set'> {1: 46, 2: 232, 3: 3014, 4: 1502}\n"
          ],
          "name": "stdout"
        }
      ]
    },
    {
      "cell_type": "code",
      "metadata": {
        "id": "DqP3RDlp1GfJ",
        "colab_type": "code",
        "colab": {
          "base_uri": "https://localhost:8080/",
          "height": 51
        },
        "outputId": "0812ac7d-f8b5-4b24-9f1b-05ed9bc3c861"
      },
      "source": [
        "#Dictionary conversion\n",
        "#this will throw error as dictionary datatype requires key & it's value, here not specified.\n",
        "'''C=(46,232,3014,1502)  #tuple\n",
        "print(type(C))\n",
        "A=dict(C)\n",
        "print(type(C))'''\n",
        "\n",
        "#method 1: using native method\n",
        "C1 = [{1:'46',2:'232'},{3:'3014',4:'1502'}]\n",
        "print(\"C1 is : \",type(C1),C1)\n",
        "\n",
        "for dicts in C1: \n",
        "    for values in dicts: \n",
        "        dicts[values] = int(dicts[values]) \n",
        "\n",
        "print(\"After Conversion C1 is : \",C1) "
      ],
      "execution_count": 14,
      "outputs": [
        {
          "output_type": "stream",
          "text": [
            "C1 is :  <class 'list'> [{1: '46', 2: '232'}, {3: '3014', 4: '1502'}]\n",
            "After Conversion C1 is :  [{1: 46, 2: 232}, {3: 3014, 4: 1502}]\n"
          ],
          "name": "stdout"
        }
      ]
    },
    {
      "cell_type": "code",
      "metadata": {
        "id": "wyNjhHE-1moH",
        "colab_type": "code",
        "colab": {
          "base_uri": "https://localhost:8080/",
          "height": 153
        },
        "outputId": "8f0d96da-e540-40dd-b163-f94efb4b611c"
      },
      "source": [
        "#Frozen set : an immutable set mainly used for assigning fixed set values for dict[[key],val] or to prepare a fixed set.\n",
        "S={46,232,3014,1502}\n",
        "T=(46,232,3014,1502)\n",
        "L=[46,232,3014,1502]\n",
        "D={1:46,2:232,3:3014,4:1502}\n",
        "print(type(S),S)\n",
        "print(type(frozenset(S)),S)\n",
        "print(type(T),T)\n",
        "print(type(frozenset(T)),T)\n",
        "print(type(L),L)\n",
        "print(type(frozenset(L)),L)\n",
        "print(type(D),D)\n",
        "print(type(frozenset(D)),D)"
      ],
      "execution_count": 15,
      "outputs": [
        {
          "output_type": "stream",
          "text": [
            "<class 'set'> {232, 1502, 3014, 46}\n",
            "<class 'frozenset'> {232, 1502, 3014, 46}\n",
            "<class 'tuple'> (46, 232, 3014, 1502)\n",
            "<class 'frozenset'> (46, 232, 3014, 1502)\n",
            "<class 'list'> [46, 232, 3014, 1502]\n",
            "<class 'frozenset'> [46, 232, 3014, 1502]\n",
            "<class 'dict'> {1: 46, 2: 232, 3: 3014, 4: 1502}\n",
            "<class 'frozenset'> {1: 46, 2: 232, 3: 3014, 4: 1502}\n"
          ],
          "name": "stdout"
        }
      ]
    },
    {
      "cell_type": "code",
      "metadata": {
        "id": "WtphxcEFP5tx",
        "colab_type": "code",
        "colab": {
          "base_uri": "https://localhost:8080/",
          "height": 51
        },
        "outputId": "f59841a7-f232-4100-f0a6-acdb70e3b90f"
      },
      "source": [
        "#chr conversion : ASCII value -> chr\n",
        "A = 98\n",
        "B= chr(A)\n",
        "print(type(A),\"Int equivalent : \",A)\n",
        "print(type(B),\"Chr equivalent : \",B)"
      ],
      "execution_count": 16,
      "outputs": [
        {
          "output_type": "stream",
          "text": [
            "<class 'int'> Int equivalent :  98\n",
            "<class 'str'> Chr equivalent :  b\n"
          ],
          "name": "stdout"
        }
      ]
    },
    {
      "cell_type": "code",
      "metadata": {
        "id": "4RJc3J5XVPFo",
        "colab_type": "code",
        "colab": {
          "base_uri": "https://localhost:8080/",
          "height": 51
        },
        "outputId": "f10dd325-95c3-45ff-805b-71e4c91654b6"
      },
      "source": [
        "#ord converison : converts chr -> ASCII value\n",
        "A = \"S\"\n",
        "print(type(A),\"Chr equivalent : \",A)\n",
        "print(type(ord(A)),\"ASCII Equivalent : \",ord(A))"
      ],
      "execution_count": 17,
      "outputs": [
        {
          "output_type": "stream",
          "text": [
            "<class 'str'> Chr equivalent :  S\n",
            "<class 'int'> ASCII Equivalent :  83\n"
          ],
          "name": "stdout"
        }
      ]
    },
    {
      "cell_type": "code",
      "metadata": {
        "id": "gwxJynL9XG-U",
        "colab_type": "code",
        "colab": {
          "base_uri": "https://localhost:8080/",
          "height": 51
        },
        "outputId": "8a53fd9a-76aa-4c0b-a609-2dbebd25ad9e"
      },
      "source": [
        "#hex conversion : int -> hex string\n",
        "A = 4623230141502\n",
        "print(type(A),\"Int equivalent : \",A)\n",
        "print(type(hex(A)),\"Hex Equivalent : \",hex(A))"
      ],
      "execution_count": 18,
      "outputs": [
        {
          "output_type": "stream",
          "text": [
            "<class 'int'> Int equivalent :  4623230141502\n",
            "<class 'str'> Hex Equivalent :  0x4346dfd843e\n"
          ],
          "name": "stdout"
        }
      ]
    },
    {
      "cell_type": "code",
      "metadata": {
        "id": "UGYZoyDvX58H",
        "colab_type": "code",
        "colab": {}
      },
      "source": [
        ""
      ],
      "execution_count": 0,
      "outputs": []
    }
  ]
}