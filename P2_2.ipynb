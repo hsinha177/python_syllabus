{
  "nbformat": 4,
  "nbformat_minor": 0,
  "metadata": {
    "colab": {
      "name": "P2_2.ipynb",
      "provenance": [],
      "include_colab_link": true
    },
    "kernelspec": {
      "name": "python3",
      "display_name": "Python 3"
    }
  },
  "cells": [
    {
      "cell_type": "markdown",
      "metadata": {
        "id": "view-in-github",
        "colab_type": "text"
      },
      "source": [
        "<a href=\"https://colab.research.google.com/github/hsinha177/python_syllabus/blob/master/P2_2.ipynb\" target=\"_parent\"><img src=\"https://colab.research.google.com/assets/colab-badge.svg\" alt=\"Open In Colab\"/></a>"
      ]
    },
    {
      "cell_type": "markdown",
      "metadata": {
        "id": "nZ4SIvFeC_po",
        "colab_type": "text"
      },
      "source": [
        "Program to add 2 numbers using command line arguments"
      ]
    },
    {
      "cell_type": "code",
      "metadata": {
        "id": "UfeoBdB9DTOS",
        "colab_type": "code",
        "colab": {
          "base_uri": "https://localhost:8080/",
          "height": 68
        },
        "outputId": "3a9b5026-0110-46e4-b9eb-2907c19ec0f1"
      },
      "source": [
        "num1 = int(input(\"Enter an interger number : \"))\n",
        "num2 = int(input(\"Enter second integer number : \"))\n",
        "\n",
        "sUm = num1+num2\n",
        "\n",
        "print(\"Sum is : \"+str(sUm))"
      ],
      "execution_count": 5,
      "outputs": [
        {
          "output_type": "stream",
          "text": [
            "Enter an interger number : 46\n",
            "Enter second integer number : 232\n",
            "Sum is : 278\n"
          ],
          "name": "stdout"
        }
      ]
    },
    {
      "cell_type": "code",
      "metadata": {
        "id": "Iy47stb_DvqD",
        "colab_type": "code",
        "colab": {}
      },
      "source": [
        ""
      ],
      "execution_count": 0,
      "outputs": []
    }
  ]
}